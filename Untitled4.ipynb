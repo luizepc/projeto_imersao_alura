{
  "nbformat": 4,
  "nbformat_minor": 0,
  "metadata": {
    "colab": {
      "provenance": [],
      "authorship_tag": "ABX9TyNtx8pvG7sKqivwZw2x/93m",
      "include_colab_link": true
    },
    "kernelspec": {
      "name": "python3",
      "display_name": "Python 3"
    },
    "language_info": {
      "name": "python"
    }
  },
  "cells": [
    {
      "cell_type": "markdown",
      "metadata": {
        "id": "view-in-github",
        "colab_type": "text"
      },
      "source": [
        "<a href=\"https://colab.research.google.com/github/luizepc/projeto_imersao_alura/blob/main/Untitled4.ipynb\" target=\"_parent\"><img src=\"https://colab.research.google.com/assets/colab-badge.svg\" alt=\"Open In Colab\"/></a>"
      ]
    },
    {
      "cell_type": "code",
      "execution_count": null,
      "metadata": {
        "id": "zuFq91Zd34Up"
      },
      "outputs": [],
      "source": [
        "from pathlib import Path\n",
        "import hashlib\n",
        "import google.generativeai as genai\n",
        "from google.colab import userdata\n",
        "api_key = userdata.get('secretName')\n",
        "genai.configure(api_key=api_key)\n",
        "\n",
        "generation_config = {\n",
        "  \"temperature\": 0.9,\n",
        "  \"top_p\": 1,\n",
        "  \"top_k\": 0,\n",
        "  \"max_output_tokens\": 2048,\n",
        "}\n",
        "\n",
        "safety_settings={\n",
        "    'HATE': 'BLOCK_NONE',\n",
        "    'HARASSMENT': 'BLOCK_NONE',\n",
        "    'SEXUAL' : 'BLOCK_NONE',\n",
        "    'DANGEROUS' : 'BLOCK_NONE'\n",
        "    }\n",
        "\n",
        "model = genai.GenerativeModel(model_name=\"gemini-1.0-pro\",\n",
        "                              generation_config=generation_config,\n",
        "                              safety_settings=safety_settings)\n",
        "\n",
        "def extract_pdf_pages(pathname: str) -> list[str]:\n",
        "  parts = [f\"--- START OF PDF ${pathname} ---\"]\n",
        "  # Add logic to read the PDF and return a list of pages here.\n",
        "  pages = []\n",
        "  for index, page in enumerate(pages):\n",
        "    parts.append(f\"--- PAGE {index} ---\")\n",
        "    parts.append(page)\n",
        "  return parts\n",
        "\n",
        "chat = model.start_chat(history=[\n",
        "  {\n",
        "    \"role\": \"user\",\n",
        "    \"parts\": extract_pdf_pages(\"<path>/document0.pdf\")\n",
        "  },\n",
        "  {\n",
        "    \"role\": \"model\",\n",
        "    \"parts\": [\"| Ticker | Nome |\\n|---|---|\\n| MGLU3 | Magazine Luiza |\\n| COGN3 | Cogna |\\n| HAPV3 | Hapvida |\\n| B3SA3 | B3 |\\n| BBDC4 | Banco Bradesco |\\n| BBAS3 | Banco do Brasil |\\n| LREN3 | Lojas Renner |\\n| SOMA3 | Grupo Soma |\\n| ITUB4 | Itaú Unibanco |\\n| PETR4 | Petrobras |\\n| ABEV3 | Ambev |\\n| CPLE6 | Copel |\\n| ITSA4 | Itaúsa |\\n| VALE3 | Vale |\\n| SUZB3 | Suzano |\\n| CPLE3 | Copel |\\n| ONCO3 | Oncoclínicas |\\n| CIEL3 | Cielo |\\n| UGPA3 | Ultrapar |\\n| AZUL4 | Azul |\\n| MRVE3 | MRV |\\n| VBBR3 | Vibra Energia |\\n| BEEF3 | Minerva |\\n| ELET3 | Eletrobras |\\n| BRFS3 | BRF |\\n| OIBR3 | Oi |\\n| CMIG4 | CEMIG |\\n| EQTL3 | Equatorial Energia |\\n| PCAR3 | Grupo Pão de Açúcar |\\n| LWSA3 | Locaweb |\\n| GGBR4 | Gerdau |\\n| CVCB3 | CVC |\\n| RAIL3 | Rumo |\\n| RDOR3 | Rede D'Or |\\n| RAIZ4 | Raízen |\\n| RRRP3 | 3R Petroleum |\\n| GOAU4 | Metalúrgica Gerdau |\\n| IFCM3 | Infracommerce |\\n| BBDC3 | Banco Bradesco |\\n| CCRO3 | Grupo CCR |\\n| POMO4 | Marcopolo |\\n| USIM5 | Usiminas |\\n| CMIN3 | CSN Mineração |\\n| PRIO3 | PetroRio |\\n| GMAT3 | Grupo Mateus |\\n| RENT3 | Localiza |\\n| AMER3 | Americanas |\\n| PETR3 | Petrobras |\\n| STBP3 | Santos Brasil |\\n| TIMS3 | TIM |\\n| ENEV3 | Eneva |\\n| ASAI3 | Assaí |\\n| CSAN3 | Cosan |\\n| QUAL3 | Qualicorp |\\n| BHIA3 | Casas Bahia |\\n| PETZ3 | Petz |\\n| GOLL4 | GOL |\\n| MOVI3 | Movida |\\n| CSNA3 | Siderúrgica Nacional |\\n| MRFG3 | Marfrig |\\n| VAMO3 | Grupo Vamos |\\n| LJQQ3 | Lojas Quero-Quero |\\n| CYRE3 | Cyrela |\\n| YDUQ3 | YDUQS |\\n| CBAV3 | CBA |\\n| RAPT4 | Randon |\\n| AURE3 | Auren Energia |\\n| NTCO3 | Natura |\\n| TTEN3 | 3tentos |\\n| ALOS3 | ALOS3 |\\n| TEND3 | Construtora Tenda |\\n| WEGE3 | WEG |\\n| JBSS3 | JBS |\\n| BBSE3 | BB Seguridade |\\n| SIMH3 | Simpar |\\n| MULT3 | Multiplan |\\n| ARZZ3 | Arezzo |\\n| EMBR3 | Embraer |\\n| RADL3 | RaiaDrogasil |\\n| ANIM3 | Ânima Educação |\\n| TOTS3 | Totvs |\\n| SMFT3 | Smart Fit |\\n| PDGR3 | PDG Realty |\\n| CEAB3 | C&A |\\n| HBSA3 | Hidrovias do Brasil |\\n| TRPL4 | Transmissão Paulista |\\n| CRFB3 | Carrefour Brasil |\\n| DXCO3 | Dexco |\\n| MILS3 | Mills |\\n| VIVT3 | Vivo |\\n| SRNA3 | SRNA3 |\\n| BRKM5 | Braskem |\\n| VIVA3 | Vivara |\\n| SLCE3 | SLC Agrícola |\\n| ECOR3 | EcoRodovias |\\n| ENAT3 | Enauta |\\n| SBSP3 | Sabesp |\\n| CURY3 | Cury |\\n| JHSF3 | JHSF |\\n| BRAP4 | Bradespar |\\n| FLRY3 | Fleury |\\n| ELET6 | Eletrobras |\\n| EGIE3 | Engie |\\n| PSSA3 | Porto Seguro |\\n| BRSR6 | Banrisul |\\n| RCSL3 | Recrusul |\\n| DIRR3 | Direcional |\\n| CASH3 | Méliuz |\\n| VVEO3 | Viveo |\\n| EZTC3 | EZTEC |\\n| RECV3 | PetroRecôncavo |\\n| ABCB4 | Banco ABC Brasil |\\n| AMBP3 | Ambipar |\\n| SBFG3 | Grupo SBF |\\n| AESB3 | AES Brasil |\\n| GUAR3 | Guararapes |\\n| ODPV3 | Odontoprev |\\n| CXSE3 | Caixa Seguridade |\\n| ALPA4 | Alpargatas |\\n| AERI3 | Aeris Energy |\\n| GFSA3 | Gafisa |\\n| SEQL3 | Sequoia Logística |\\n| AZEV4 | Azevedo & Travassos |\\n| CSMG3 | COPASA |\\n| MLAS3 | Multilaser |\\n| TRAD3 | Traders Club |\\n| CLSA3 | ClearSale |\\n| OPCT3 | OceanPact |\\n| HYPE3 | Hypera |\\n| SHOW3 | Time For Fun |\\n| KLBN4 | Klabin |\\n| CPFE3 | CPFL Energia |\\n| MBLY3 | Mobly |\\n| MYPK3 | Iochpe-Maxion |\\n| BPAN4 | Banco Pan |\\n| GGPS3 | GPS |\\n| SMTO3 | São Martinho |\\n| ARML3 | Armac |\\n| MEAL3 | IMC Alimentação |\\n| ENJU3 | Enjoei |\\n| LAVV3 | Lavvi Incorporadora |\\n| SAPR4 | Sanepar |\\n| PLPL3 | Plano&Plano |\\n| LIGT3 | Light |\\n| AGXY3 | AgroGalaxy |\\n| VULC3 | Vulcabras |\\n| HBRE3 | HBR Realty |\\n| POSI3 | Positivo |\\n| PORT3 | Wilson Sons |\\n| MTRE3 | Mitre Realty |\\n| KRSA3 | Kora Saúde |\\n| IRBR3 | IRB Brasil RE |\\n| INTB3 | Intelbras |\\n| GRND3 | Grendene |\\n| DMVF3 | D1000 Varejo Farma |\\n| TUPY3 | Tupy |\\n| JSLG3 | JSL |\\n| ZAMP3 | Zamp |\\n| PGMN3 | Pague Menos |\\n| SOJA3 | Boa Safra Sementes |\\n| DASA3 | Dasa |\\n| RANI3 | Irani |\\n| VLID3 | Valid |\\n| LEVE3 | Mahle Metal Leve |\\n| CAML3 | Camil Alimentos |\\n| AMAR3 | Lojas Marisa |\\n| ORVR3 | Orizon |\\n| KEPL3 | Kepler Weber |\\n| EVEN3 | Even |\\n| TRIS3 | Trisul |\\n| PTBL3 | Portobello |\\n| PNVL3 | Dimed |\\n| NGRD3 | Neogrid |\\n| NEOE3 | Neoenergia |\\n| CSED3 | Cruzeiro do Sul Educacional |\\n| FESA4 | Ferbasa |\\n| PFRM3 | Profarma |\\n| WIZC3 | Wiz Soluções |\\n| MDNE3 | Moura Dubeux |\\n| MATD3 | Mater Dei |\\n| KLBN3 | Klabin |\\n| TASA4 | Taurus |\\n| BRIT3 | Brisanet |\\n| ITUB3 | Itaú Unibanco |\\n| JALL3 | Jalles Machado |\\n| TAEE4 | Taesa |\\n| ESPA3 | Espaçolaser |\\n| MDIA3 | M. Dias Branco |\\n| ALLD3 | Allied |\\n| AGRO3 | BrasilAgro |\\n| SHUL4 | Schulz |\\n| POMO3 | Marcopolo |\\n| VITT3 | Vittia |\\n| USIM3 | Usiminas |\\n| EUCA4 | Eucatex |\\n| BMGB4 | Banco BMG |\\n| FIQE3 | Unifique |\\n| FRAS3 | Fras-le |\\n| ELMD3 | Eletromidia |\\n| ETER3 | Eternit |\\n| SGPS3 | Springs |\\n| PDTC3 | Padtec |\\n| BLAU3 | Blau Farmacêutica |\\n| PINE4 | PINE |\\n| RCSL4 | Recrusul |\\n| SEER3 | Ser Educacional |\\n| HBOR3 | Helbor |\\n| LUPA3 | Lupatech |\\n| LOGG3 | LOG CP |\\n| BMOB3 | Bemobi |\\n| MELK3 |\"]\n",
        "  },\n",
        "  {\n",
        "    \"role\": \"user\",\n",
        "    \"parts\": [\"Itaú\"]\n",
        "  },\n",
        "  {\n",
        "    \"role\": \"model\",\n",
        "    \"parts\": [\"ITUB4\"]\n",
        "  },\n",
        "  {\n",
        "    \"role\": \"user\",\n",
        "    \"parts\": [\"itub3\"]\n",
        "  },\n",
        "  {\n",
        "    \"role\": \"model\",\n",
        "    \"parts\": [\"Itaú Unibanco\"]\n",
        "  },\n",
        "])\n",
        "\n",
        "print('\\n\\n', \"CONSULTA DE TICKER OU NOME DAS AÇÕES DA BOLSA DE VALORES DO BRASIL\", '\\n\\n')\n",
        "prompt = input('Consulte o Ticker ou Nome da Ação (Digite fim para sair): ')\n",
        "\n",
        "while prompt != \"fim\":\n",
        "  response = chat.send_message(prompt)\n",
        "  print(\"Resposta:\", response.text, '\\n\\n')\n",
        "  prompt = input('Consulte o Ticker ou Nome da Ação (Digite fim para sair): ')"
      ]
    }
  ]
}